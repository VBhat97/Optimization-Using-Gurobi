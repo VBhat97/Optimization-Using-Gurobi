{
 "cells": [
  {
   "cell_type": "code",
   "execution_count": 1,
   "metadata": {},
   "outputs": [],
   "source": [
    "from gurobipy import *"
   ]
  },
  {
   "cell_type": "code",
   "execution_count": 2,
   "metadata": {},
   "outputs": [],
   "source": [
    "P = [\n",
    "[5,4,6,7,1,5,6],\n",
    "[9,8,5,1,1,2,3],\n",
    "[1,7,4,6,2,3,5],\n",
    "[1,1,2,4,2,6,2],\n",
    "[15,12,1,3,10,8,2],\n",
    "[16,17,1,1,6,6,2],\n",
    "[3,5,8,1,2,1,1]\n",
    "]"
   ]
  },
  {
   "cell_type": "code",
   "execution_count": 3,
   "metadata": {},
   "outputs": [
    {
     "name": "stdout",
     "output_type": "stream",
     "text": [
      "Using license file C:\\Users\\V.Bhat\\gurobi.lic\n",
      "Academic license - for non-commercial use only\n"
     ]
    }
   ],
   "source": [
    "m=Model(\"The Game Board\")"
   ]
  },
  {
   "cell_type": "code",
   "execution_count": 7,
   "metadata": {},
   "outputs": [],
   "source": [
    "#This would contain a 7x7 matrix which would have 1 if we took that i,j element or 0 if we did not take it\n",
    "C=[]\n",
    "for i in range(7):\n",
    "    D=[]\n",
    "    for j in range(7):\n",
    "        v=m.addVar(lb=0,ub=1,vtype=GRB.BINARY,name=str(j))\n",
    "        D.append(v)\n",
    "    C.append(D)"
   ]
  },
  {
   "cell_type": "code",
   "execution_count": 8,
   "metadata": {},
   "outputs": [],
   "source": [
    "#Maximize the sum of the selected digits.\n",
    "\n",
    "obj=0\n",
    "for i in range(7):\n",
    "    for j in range(7):\n",
    "        obj=obj+C[i][j]*P[i][j]\n",
    "        \n",
    "m.setObjective(obj,GRB.MAXIMIZE)"
   ]
  },
  {
   "cell_type": "code",
   "execution_count": 9,
   "metadata": {},
   "outputs": [],
   "source": [
    "#The constraint is that the sum of 1's for every row should be 1.\n",
    "#The sum of 1's for every column should also be 1.\n",
    "\n",
    "for i in range(7):\n",
    "    const=0\n",
    "    const2=0\n",
    "    for j in range(7):\n",
    "        const=const+C[i][j]\n",
    "        const2=const2+C[j][i]\n",
    "    m.addConstr(const==1)\n",
    "    m.addConstr(const2==1)"
   ]
  },
  {
   "cell_type": "code",
   "execution_count": 10,
   "metadata": {},
   "outputs": [
    {
     "name": "stdout",
     "output_type": "stream",
     "text": [
      "Gurobi Optimizer version 9.0.2 build v9.0.2rc0 (win64)\n",
      "Optimize a model with 14 rows, 147 columns and 98 nonzeros\n",
      "Model fingerprint: 0x681ccd77\n",
      "Variable types: 0 continuous, 147 integer (147 binary)\n",
      "Coefficient statistics:\n",
      "  Matrix range     [1e+00, 1e+00]\n",
      "  Objective range  [1e+00, 2e+01]\n",
      "  Bounds range     [1e+00, 1e+00]\n",
      "  RHS range        [1e+00, 1e+00]\n",
      "Found heuristic solution: objective 30.0000000\n",
      "Presolve removed 0 rows and 98 columns\n",
      "Presolve time: 0.00s\n",
      "Presolved: 14 rows, 49 columns, 98 nonzeros\n",
      "Variable types: 0 continuous, 49 integer (49 binary)\n",
      "\n",
      "Root relaxation: objective 6.200000e+01, 15 iterations, 0.00 seconds\n",
      "\n",
      "    Nodes    |    Current Node    |     Objective Bounds      |     Work\n",
      " Expl Unexpl |  Obj  Depth IntInf | Incumbent    BestBd   Gap | It/Node Time\n",
      "\n",
      "*    0     0               0      62.0000000   62.00000  0.00%     -    0s\n",
      "\n",
      "Explored 0 nodes (15 simplex iterations) in 0.02 seconds\n",
      "Thread count was 8 (of 8 available processors)\n",
      "\n",
      "Solution count 2: 62 30 \n",
      "\n",
      "Optimal solution found (tolerance 1.00e-04)\n",
      "Best objective 6.200000000000e+01, best bound 6.200000000000e+01, gap 0.0000%\n"
     ]
    }
   ],
   "source": [
    "m.optimize()"
   ]
  },
  {
   "cell_type": "code",
   "execution_count": 11,
   "metadata": {},
   "outputs": [
    {
     "name": "stdout",
     "output_type": "stream",
     "text": [
      "0001000\n",
      "1000000\n",
      "0000001\n",
      "0000010\n",
      "0000100\n",
      "0100000\n",
      "0010000\n"
     ]
    }
   ],
   "source": [
    "#Printing the selected element in the 7x7 board game\n",
    "for i in range(7):\n",
    "    for j in range(7):\n",
    "        print(int(C[i][j].x),end=\"\")\n",
    "    print()"
   ]
  },
  {
   "cell_type": "code",
   "execution_count": 12,
   "metadata": {},
   "outputs": [
    {
     "name": "stdout",
     "output_type": "stream",
     "text": [
      "Row--> 0 Column==> 3\n",
      "Row--> 1 Column==> 0\n",
      "Row--> 2 Column==> 6\n",
      "Row--> 3 Column==> 5\n",
      "Row--> 4 Column==> 4\n",
      "Row--> 5 Column==> 1\n",
      "Row--> 6 Column==> 2\n"
     ]
    }
   ],
   "source": [
    "#Printing the ith and jth element from the grid as required in the question\n",
    "for i in range(7):\n",
    "    for j in range(7):\n",
    "        if int(C[i][j].x)==1:\n",
    "            print(\"Row--> \"+str(i)+\" Column==> \"+str(j))"
   ]
  },
  {
   "cell_type": "code",
   "execution_count": 14,
   "metadata": {},
   "outputs": [
    {
     "data": {
      "text/plain": [
       "62.0"
      ]
     },
     "execution_count": 14,
     "metadata": {},
     "output_type": "execute_result"
    }
   ],
   "source": [
    "#Sum of the values from the grid\n",
    "m.objval"
   ]
  },
  {
   "cell_type": "code",
   "execution_count": null,
   "metadata": {},
   "outputs": [],
   "source": []
  }
 ],
 "metadata": {
  "kernelspec": {
   "display_name": "Python 3",
   "language": "python",
   "name": "python3"
  },
  "language_info": {
   "codemirror_mode": {
    "name": "ipython",
    "version": 3
   },
   "file_extension": ".py",
   "mimetype": "text/x-python",
   "name": "python",
   "nbconvert_exporter": "python",
   "pygments_lexer": "ipython3",
   "version": "3.7.4"
  }
 },
 "nbformat": 4,
 "nbformat_minor": 2
}
