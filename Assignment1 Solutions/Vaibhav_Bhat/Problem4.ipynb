{
 "cells": [
  {
   "cell_type": "code",
   "execution_count": 1,
   "metadata": {},
   "outputs": [
    {
     "name": "stdout",
     "output_type": "stream",
     "text": [
      "Enter number of Vertices : 5\n"
     ]
    }
   ],
   "source": [
    "#Take the number of vertices\n",
    "import networkx as nx\n",
    "n=int(input(\"Enter number of Vertices : \"))\n",
    "G= nx.erdos_renyi_graph(n,0.1)"
   ]
  },
  {
   "cell_type": "code",
   "execution_count": 3,
   "metadata": {},
   "outputs": [
    {
     "data": {
      "image/png": "[encoded data removed]",
      "text/plain": [
       "<Figure size 432x288 with 1 Axes>"
      ]
     },
     "metadata": {},
     "output_type": "display_data"
    }
   ],
   "source": [
    "#Create a random Graph using networkx with a probability of 0.1 of having an edge.\n",
    "import matplotlib.pyplot as plt\n",
    "nx.draw(G, with_labels=True)\n",
    "plt.show()"
   ]
  },
  {
   "cell_type": "code",
   "execution_count": 4,
   "metadata": {},
   "outputs": [],
   "source": [
    "#Function to randomly add an edge from a given list of non edges\n",
    "def random_edge(graph):\n",
    "    nonedges = list(nx.non_edges(graph))\n",
    "    chosen_nonedge = random.choice(nonedges)\n",
    "    graph.add_edge(chosen_nonedge[0], chosen_nonedge[1])\n",
    "\n",
    "    return graph"
   ]
  },
  {
   "cell_type": "code",
   "execution_count": 5,
   "metadata": {},
   "outputs": [],
   "source": [
    "#Function to Check whether the degree of all the under number of vertices/2\n",
    "#The condition that the degree is greater than 1 is checked when we check for a connected graph.\n",
    "def checkdegrees(G):\n",
    "    flag=0\n",
    "    my_degrees=G.degree()\n",
    "    for i in my_degrees:\n",
    "        if i[1]>n/2:\n",
    "            flag=1\n",
    "    return flag"
   ]
  },
  {
   "cell_type": "code",
   "execution_count": 6,
   "metadata": {},
   "outputs": [],
   "source": [
    "# Drawing the graph. Add the edge which is not connected. Check whether there is any change in the degree constraint of\n",
    "# every node. Run a while loop until the random nodes are added such that the graph is connected and degrees are between\n",
    "# 1 and number of vertices/2.\n",
    "import random\n",
    "while nx.is_connected(G)==False:\n",
    "    T=G.copy()\n",
    "    new_graph = random_edge(G)\n",
    "    flag=checkdegrees(new_graph)\n",
    "    if flag!=1:\n",
    "        T=G.copy()\n",
    "    elif flag==1:\n",
    "        G=T.copy()"
   ]
  },
  {
   "cell_type": "code",
   "execution_count": 7,
   "metadata": {},
   "outputs": [
    {
     "name": "stderr",
     "output_type": "stream",
     "text": [
      "C:\\Users\\V.Bhat\\AppData\\Local\\Continuum\\anaconda3\\lib\\site-packages\\networkx\\drawing\\nx_pylab.py:579: MatplotlibDeprecationWarning: \n",
      "The iterable function was deprecated in Matplotlib 3.1 and will be removed in 3.3. Use np.iterable instead.\n",
      "  if not cb.iterable(width):\n"
     ]
    },
    {
     "data": {
      "image/png": "[encoded data removed]",
      "text/plain": [
       "<Figure size 432x288 with 1 Axes>"
      ]
     },
     "metadata": {},
     "output_type": "display_data"
    }
   ],
   "source": [
    "#Draw the generated graph\n",
    "nx.draw(G, with_labels=True)"
   ]
  },
  {
   "cell_type": "code",
   "execution_count": 8,
   "metadata": {},
   "outputs": [],
   "source": [
    "A = nx.adjacency_matrix(G)\n",
    "adjacency=A.todense()"
   ]
  },
  {
   "cell_type": "code",
   "execution_count": 9,
   "metadata": {},
   "outputs": [
    {
     "name": "stdout",
     "output_type": "stream",
     "text": [
      "[[0 0 1 0 1]\n",
      " [0 0 0 1 1]\n",
      " [1 0 0 0 0]\n",
      " [0 1 0 0 0]\n",
      " [1 1 0 0 0]]\n"
     ]
    }
   ],
   "source": [
    "#Printing the adjacency matrix to ensure our conditions are met\n",
    "#The matrix should contain number of 1's in every row less than number of vertices/2\n",
    "print(adjacency)"
   ]
  },
  {
   "cell_type": "code",
   "execution_count": 10,
   "metadata": {},
   "outputs": [
    {
     "name": "stdout",
     "output_type": "stream",
     "text": [
      "Using license file C:\\Users\\V.Bhat\\gurobi.lic\n",
      "Academic license - for non-commercial use only\n"
     ]
    }
   ],
   "source": [
    "from gurobipy import *\n",
    "m = Model(\"Vertex Cover Solution\")"
   ]
  },
  {
   "cell_type": "code",
   "execution_count": 11,
   "metadata": {},
   "outputs": [],
   "source": [
    "#This would contain the final solution i.e. the vertices which we would be selecting.\n",
    "C = []\n",
    "for i in range(n):\n",
    "    v = m.addVar(lb=0, ub=1, vtype=GRB.BINARY, name=str(i))\n",
    "    C.append(v)"
   ]
  },
  {
   "cell_type": "code",
   "execution_count": 12,
   "metadata": {},
   "outputs": [],
   "source": [
    "#We have to minimize the sum of the number of vertices we selected.Hence it will be our objective function.\n",
    "obj = 0\n",
    "for i in C:\n",
    "    obj = obj + i\n",
    "\n",
    "m.setObjective(obj, GRB.MINIMIZE)"
   ]
  },
  {
   "cell_type": "code",
   "execution_count": 13,
   "metadata": {},
   "outputs": [],
   "source": [
    "#Now we add the constraint that we have to cover every edge in the graph\n",
    "for edge in G.edges():\n",
    "    i = edge[0]\n",
    "    j = edge[1]\n",
    "    x_u = C[i]\n",
    "    x_v = C[j]\n",
    "    m.addConstr(x_u + x_v >= 1, \"Main Constraint\")"
   ]
  },
  {
   "cell_type": "code",
   "execution_count": 14,
   "metadata": {},
   "outputs": [
    {
     "name": "stdout",
     "output_type": "stream",
     "text": [
      "Gurobi Optimizer version 9.0.2 build v9.0.2rc0 (win64)\n",
      "Optimize a model with 4 rows, 5 columns and 8 nonzeros\n",
      "Model fingerprint: 0xa6bfb4d8\n",
      "Variable types: 0 continuous, 5 integer (5 binary)\n",
      "Coefficient statistics:\n",
      "  Matrix range     [1e+00, 1e+00]\n",
      "  Objective range  [1e+00, 1e+00]\n",
      "  Bounds range     [1e+00, 1e+00]\n",
      "  RHS range        [1e+00, 1e+00]\n",
      "Found heuristic solution: objective 3.0000000\n",
      "Presolve removed 4 rows and 5 columns\n",
      "Presolve time: 0.00s\n",
      "Presolve: All rows and columns removed\n",
      "\n",
      "Explored 0 nodes (0 simplex iterations) in 0.02 seconds\n",
      "Thread count was 1 (of 8 available processors)\n",
      "\n",
      "Solution count 2: 2 \n",
      "\n",
      "Optimal solution found (tolerance 1.00e-04)\n",
      "Best objective 2.000000000000e+00, best bound 2.000000000000e+00, gap 0.0000%\n"
     ]
    }
   ],
   "source": [
    "m.optimize()"
   ]
  },
  {
   "cell_type": "code",
   "execution_count": 18,
   "metadata": {},
   "outputs": [
    {
     "name": "stdout",
     "output_type": "stream",
     "text": [
      "1.0\n",
      "1.0\n",
      "0.0\n",
      "0.0\n",
      "0.0\n"
     ]
    }
   ],
   "source": [
    "#To check which vertex it selected\n",
    "for i in C:\n",
    "    print(i.x)\n",
    "#The solution gives 1 for the ith node. So if we get 1 in the 1st line, it means the 0th node is selected.\n",
    "#Which then we have to check from the graph where the node is located"
   ]
  },
  {
   "cell_type": "code",
   "execution_count": 19,
   "metadata": {},
   "outputs": [
    {
     "name": "stdout",
     "output_type": "stream",
     "text": [
      "Total number of vertex in cover : 2\n"
     ]
    }
   ],
   "source": [
    "#Print the count of vertex cover\n",
    "count=0\n",
    "for i in C:\n",
    "    if int(i.x)==1:\n",
    "        count=count+1\n",
    "\n",
    "print(\"Total number of vertex in cover : \"+str(count))"
   ]
  },
  {
   "cell_type": "code",
   "execution_count": null,
   "metadata": {},
   "outputs": [],
   "source": []
  }
 ],
 "metadata": {
  "kernelspec": {
   "display_name": "Python 3",
   "language": "python",
   "name": "python3"
  },
  "language_info": {
   "codemirror_mode": {
    "name": "ipython",
    "version": 3
   },
   "file_extension": ".py",
   "mimetype": "text/x-python",
   "name": "python",
   "nbconvert_exporter": "python",
   "pygments_lexer": "ipython3",
   "version": "3.7.4"
  }
 },
 "nbformat": 4,
 "nbformat_minor": 2
}
