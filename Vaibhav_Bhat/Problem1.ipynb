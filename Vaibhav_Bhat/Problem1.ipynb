{
 "cells": [
  {
   "cell_type": "code",
   "execution_count": 1,
   "metadata": {},
   "outputs": [],
   "source": [
    "from gurobipy import *\n",
    "import networkx as nx\n",
    "import matplotlib.pyplot as plt\n",
    "import random\n",
    "import math"
   ]
  },
  {
   "cell_type": "code",
   "execution_count": 2,
   "metadata": {},
   "outputs": [],
   "source": [
    "#Creating a random weighted bipartite graph\n",
    "def MyBipartiteGraph(n):\n",
    "    RB=nx.bipartite.random_graph(math.floor(n/2),math.ceil(n/2),0.6)\n",
    "    #Getting both the sets of bipartite graph\n",
    "    RB_top = {n for n, d in RB.nodes(data=True) if d['bipartite']==0}\n",
    "    RB_bottom = set(RB) - RB_top\n",
    "    #Adding weight to the random graph to make it a weighted graph\n",
    "    adding_weights=[]\n",
    "    for i in RB.edges:\n",
    "        i=list(i)\n",
    "        i.append(random.randint(1,10))\n",
    "        adding_weights.append(tuple(i))\n",
    "    RB.add_weighted_edges_from(adding_weights)\n",
    "    return RB,RB_top,RB_bottom,adding_weights"
   ]
  },
  {
   "cell_type": "code",
   "execution_count": 3,
   "metadata": {},
   "outputs": [],
   "source": [
    "#Testing whether the graph is bipartite or not\n",
    "def TestBipartiteGraph(RB):\n",
    "    return (nx.is_bipartite(RB))"
   ]
  },
  {
   "cell_type": "code",
   "execution_count": 5,
   "metadata": {},
   "outputs": [
    {
     "name": "stdout",
     "output_type": "stream",
     "text": [
      "Enter number of nodes ? 7\n"
     ]
    }
   ],
   "source": [
    "#Input the nodes from the user\n",
    "n=int(input(\"Enter number of nodes ? \"))\n",
    "RB,RB_top,RB_bottom,adding_weights=MyBipartiteGraph(n)"
   ]
  },
  {
   "cell_type": "code",
   "execution_count": 6,
   "metadata": {},
   "outputs": [
    {
     "name": "stdout",
     "output_type": "stream",
     "text": [
      "Yes it is a bipartite graph\n"
     ]
    }
   ],
   "source": [
    "#Test whether the generated graph is bipartite or not\n",
    "if TestBipartiteGraph(RB):\n",
    "    print(\"Yes it is a bipartite graph\")\n",
    "else:\n",
    "    print(\"It is not a bipartite graph\")"
   ]
  },
  {
   "cell_type": "code",
   "execution_count": 7,
   "metadata": {},
   "outputs": [
    {
     "name": "stderr",
     "output_type": "stream",
     "text": [
      "C:\\Users\\V.Bhat\\AppData\\Local\\Continuum\\anaconda3\\lib\\site-packages\\networkx\\drawing\\layout.py:923: FutureWarning: arrays to stack must be passed as a \"sequence\" type such as list or tuple. Support for non-sequence iterables such as generators is deprecated as of NumPy 1.16 and will raise an error in the future.\n",
      "  pos = np.row_stack((pos[x] for x in node_list))\n",
      "C:\\Users\\V.Bhat\\AppData\\Local\\Continuum\\anaconda3\\lib\\site-packages\\networkx\\drawing\\nx_pylab.py:579: MatplotlibDeprecationWarning: \n",
      "The iterable function was deprecated in Matplotlib 3.1 and will be removed in 3.3. Use np.iterable instead.\n",
      "  if not cb.iterable(width):\n"
     ]
    },
    {
     "data": {
      "text/plain": [
       "{(0, 4): Text(-0.10256410256410253, -0.358974358974359, '7'),\n",
       " (0, 6): Text(-0.641025641025641, 0.0, '5'),\n",
       " (1, 3): Text(0.25641025641025644, -0.08974358974358974, '2'),\n",
       " (1, 4): Text(0.7051282051282052, -0.2692307692307692, '8'),\n",
       " (1, 5): Text(0.3461538461538462, 0.08974358974358974, '2'),\n",
       " (2, 3): Text(-0.10256410256410252, 0.08974358974358974, '6'),\n",
       " (2, 5): Text(-0.012820512820512775, 0.2692307692307692, '8'),\n",
       " (2, 6): Text(-0.19230769230769226, 0.2692307692307692, '10')}"
      ]
     },
     "execution_count": 7,
     "metadata": {},
     "output_type": "execute_result"
    },
    {
     "data": {
      "image/png": "[encoded data removed]",
      "text/plain": [
       "<Figure size 432x288 with 1 Axes>"
      ]
     },
     "metadata": {},
     "output_type": "display_data"
    }
   ],
   "source": [
    "# Plot the weighted graph.\n",
    "# If this cell shows an error \"G is not planar\" its because networkx is unable to draw the weighted graph.\n",
    "# The graph is created but networkx is unable to draw it. Continue with further cells for graph.\n",
    "\n",
    "pos=nx.planar_layout(RB)\n",
    "nx.draw_networkx(RB,pos)\n",
    "labels = nx.get_edge_attributes(RB,'weight')\n",
    "nx.draw_networkx_edge_labels(RB,pos,edge_labels=labels)"
   ]
  },
  {
   "cell_type": "code",
   "execution_count": 8,
   "metadata": {},
   "outputs": [
    {
     "name": "stdout",
     "output_type": "stream",
     "text": [
      "Nodes in 1st set : {0, 1, 2}\n",
      "Nodes in 2nd set : {3, 4, 5, 6}\n"
     ]
    }
   ],
   "source": [
    "print(\"Nodes in 1st set : \"+str(RB_top))\n",
    "print(\"Nodes in 2nd set : \"+str(RB_bottom))"
   ]
  },
  {
   "cell_type": "code",
   "execution_count": 9,
   "metadata": {},
   "outputs": [
    {
     "name": "stdout",
     "output_type": "stream",
     "text": [
      "The edges are : [(0, 4), (0, 6), (1, 3), (1, 4), (1, 5), (2, 3), (2, 5), (2, 6)]\n"
     ]
    }
   ],
   "source": [
    "print(\"The edges are : \"+str(RB.edges))"
   ]
  },
  {
   "cell_type": "code",
   "execution_count": 10,
   "metadata": {},
   "outputs": [],
   "source": [
    "#We created random weights in the adding_weights list\n",
    "#We store the weight of all the edges in weight_matrix\n",
    "weight_matrix=[]\n",
    "for i in adding_weights:\n",
    "    weight_matrix.append(i[2])"
   ]
  },
  {
   "cell_type": "code",
   "execution_count": 11,
   "metadata": {},
   "outputs": [
    {
     "name": "stdout",
     "output_type": "stream",
     "text": [
      "The weights of those edges are : [7, 5, 2, 8, 2, 6, 8, 10]\n"
     ]
    }
   ],
   "source": [
    "print(\"The weights of those edges are : \"+str(weight_matrix))"
   ]
  },
  {
   "cell_type": "code",
   "execution_count": 12,
   "metadata": {},
   "outputs": [
    {
     "name": "stdout",
     "output_type": "stream",
     "text": [
      "Using license file C:\\Users\\V.Bhat\\gurobi.lic\n",
      "Academic license - for non-commercial use only\n"
     ]
    }
   ],
   "source": [
    "m=Model(\"Maximum Weight bipartite\")"
   ]
  },
  {
   "cell_type": "code",
   "execution_count": 13,
   "metadata": {},
   "outputs": [],
   "source": [
    "#Creating variables\n",
    "C=[]\n",
    "for i in range(len(RB.edges)):\n",
    "    v=m.addVar(lb=0,ub=1,vtype=GRB.BINARY,name=str(i))\n",
    "    C.append(v)"
   ]
  },
  {
   "cell_type": "code",
   "execution_count": 14,
   "metadata": {},
   "outputs": [],
   "source": [
    "#Objective Function\n",
    "obj=0\n",
    "for v in range(len(C)):\n",
    "    obj=obj+(C[v]*weight_matrix[v])\n",
    "\n",
    "m.setObjective(obj,GRB.MAXIMIZE)"
   ]
  },
  {
   "cell_type": "code",
   "execution_count": 15,
   "metadata": {},
   "outputs": [],
   "source": [
    "#Constraint 1: Sum of all the edges from a given node in set 1 should be 1.\n",
    "for i in RB_top:\n",
    "    sum=0\n",
    "    for edge in range(len(RB.edges)):\n",
    "        if i in list(RB.edges)[edge]:\n",
    "            sum=sum+C[edge]\n",
    "    m.addConstr(sum == 1, \"Main Constraint\")"
   ]
  },
  {
   "cell_type": "code",
   "execution_count": 16,
   "metadata": {},
   "outputs": [],
   "source": [
    "#Constraint 2: Sum of all the edges from a given node in set 2 should be 2\n",
    "\n",
    "#This constraint is for perfect matching in maximum weighted bipartite problem\n",
    "#For perfect matching, even number of nodes are required. (So that both sets have equal nodes)\n",
    "#Uncomment this cell for perfect matching in maximum weighted bipartite matching problem\n",
    "\n",
    "# for i in RB_bottom:\n",
    "#     sum=0\n",
    "#     for edge in range(len(RB.edges)):\n",
    "#         if i in list(RB.edges)[edge]:\n",
    "#             sum=sum+C[edge]\n",
    "#     m.addConstr(sum == 1, \"Main Constraint\")"
   ]
  },
  {
   "cell_type": "code",
   "execution_count": 17,
   "metadata": {},
   "outputs": [
    {
     "name": "stdout",
     "output_type": "stream",
     "text": [
      "Gurobi Optimizer version 9.0.2 build v9.0.2rc0 (win64)\n",
      "Optimize a model with 3 rows, 8 columns and 8 nonzeros\n",
      "Model fingerprint: 0x52ecca11\n",
      "Variable types: 0 continuous, 8 integer (8 binary)\n",
      "Coefficient statistics:\n",
      "  Matrix range     [1e+00, 1e+00]\n",
      "  Objective range  [2e+00, 1e+01]\n",
      "  Bounds range     [1e+00, 1e+00]\n",
      "  RHS range        [1e+00, 1e+00]\n",
      "Presolve removed 3 rows and 8 columns\n",
      "Presolve time: 0.00s\n",
      "Presolve: All rows and columns removed\n",
      "\n",
      "Explored 0 nodes (0 simplex iterations) in 0.01 seconds\n",
      "Thread count was 1 (of 8 available processors)\n",
      "\n",
      "Solution count 1: 25 \n",
      "\n",
      "Optimal solution found (tolerance 1.00e-04)\n",
      "Best objective 2.500000000000e+01, best bound 2.500000000000e+01, gap 0.0000%\n"
     ]
    }
   ],
   "source": [
    "m.optimize()"
   ]
  },
  {
   "cell_type": "code",
   "execution_count": 18,
   "metadata": {},
   "outputs": [
    {
     "name": "stdout",
     "output_type": "stream",
     "text": [
      "The edge (0, 4) is selected\n",
      "The edge (1, 4) is selected\n",
      "The edge (2, 6) is selected\n"
     ]
    }
   ],
   "source": [
    "for i in range(len(C)):\n",
    "    if C[i].x:\n",
    "        print(\"The edge \"+str(list(RB.edges)[i])+\" is selected\")"
   ]
  },
  {
   "cell_type": "code",
   "execution_count": 19,
   "metadata": {},
   "outputs": [
    {
     "name": "stdout",
     "output_type": "stream",
     "text": [
      "The value of the maximum weight matching is : 25.0\n"
     ]
    }
   ],
   "source": [
    "print(\"The value of the maximum weight matching is : \"+str(m.objVal))"
   ]
  },
  {
   "cell_type": "code",
   "execution_count": null,
   "metadata": {},
   "outputs": [],
   "source": []
  }
 ],
 "metadata": {
  "kernelspec": {
   "display_name": "Python 3",
   "language": "python",
   "name": "python3"
  },
  "language_info": {
   "codemirror_mode": {
    "name": "ipython",
    "version": 3
   },
   "file_extension": ".py",
   "mimetype": "text/x-python",
   "name": "python",
   "nbconvert_exporter": "python",
   "pygments_lexer": "ipython3",
   "version": "3.7.4"
  }
 },
 "nbformat": 4,
 "nbformat_minor": 2
}
