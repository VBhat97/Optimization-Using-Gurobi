{
  "nbformat": 4,
  "nbformat_minor": 0,
  "metadata": {
    "colab": {
      "name": "Vaibhav_Problem_1.ipynb",
      "provenance": []
    },
    "kernelspec": {
      "name": "python3",
      "display_name": "Python 3"
    }
  },
  "cells": [
    {
      "cell_type": "code",
      "metadata": {
        "id": "ycZuoNO71n9x",
        "colab_type": "code",
        "colab": {
          "base_uri": "https://localhost:8080/",
          "height": 84
        },
        "outputId": "e07e78e5-d961-4708-bb8b-f10c8791b612"
      },
      "source": [
        "!pip install ortools"
      ],
      "execution_count": 1,
      "outputs": [
        {
          "output_type": "stream",
          "text": [
            "Requirement already satisfied: ortools in /usr/local/lib/python3.6/dist-packages (7.6.7691)\n",
            "Requirement already satisfied: six>=1.10 in /usr/local/lib/python3.6/dist-packages (from ortools) (1.12.0)\n",
            "Requirement already satisfied: protobuf>=3.11.2 in /usr/local/lib/python3.6/dist-packages (from ortools) (3.12.1)\n",
            "Requirement already satisfied: setuptools in /usr/local/lib/python3.6/dist-packages (from protobuf>=3.11.2->ortools) (46.3.0)\n"
          ],
          "name": "stdout"
        }
      ]
    },
    {
      "cell_type": "code",
      "metadata": {
        "id": "2nqdI9AL1q4J",
        "colab_type": "code",
        "colab": {}
      },
      "source": [
        "from __future__ import absolute_import\n",
        "from __future__ import division\n",
        "from __future__ import print_function\n",
        "from ortools.sat.python import cp_model\n",
        "model = cp_model.CpModel()"
      ],
      "execution_count": 0,
      "outputs": []
    },
    {
      "cell_type": "code",
      "metadata": {
        "id": "CYZT1Y3L1tQS",
        "colab_type": "code",
        "colab": {}
      },
      "source": [
        "#Since total people are 7, lets assume maximum tables would be 7 for initialization purpose without any constraint.\n",
        "max_tables=7"
      ],
      "execution_count": 0,
      "outputs": []
    },
    {
      "cell_type": "code",
      "metadata": {
        "id": "33eNh1lk1u31",
        "colab_type": "code",
        "colab": {}
      },
      "source": [
        "#Initialize the variables\n",
        "Jaime=model.NewIntVar(0,max_tables-1,'Jaime')\n",
        "Beth=model.NewIntVar(0,max_tables-1,'Beth')\n",
        "Jon=model.NewIntVar(0,max_tables-1,'Jon')\n",
        "Daenerys=model.NewIntVar(0,max_tables-1,'Daenerys')\n",
        "Cersei=model.NewIntVar(0,max_tables-1,'Cersei')\n",
        "Sansa=model.NewIntVar(0,max_tables-1,'Sansa')\n",
        "Tyrion=model.NewIntVar(0,max_tables-1,'Tyrion')"
      ],
      "execution_count": 0,
      "outputs": []
    },
    {
      "cell_type": "code",
      "metadata": {
        "id": "Dj1igMhk1ydq",
        "colab_type": "code",
        "colab": {}
      },
      "source": [
        "#For Storing the values in a single list\n",
        "values=[Jaime,Beth,Jon,Daenerys,Cersei,Sansa,Tyrion]"
      ],
      "execution_count": 0,
      "outputs": []
    },
    {
      "cell_type": "code",
      "metadata": {
        "id": "msegqD-Z10nj",
        "colab_type": "code",
        "colab": {
          "base_uri": "https://localhost:8080/",
          "height": 34
        },
        "outputId": "a720328a-6586-440b-c57c-ea2872482c7f"
      },
      "source": [
        "#Adding Jaime's enemies and friends\n",
        "model.Add(Jaime != Jon)\n",
        "model.Add(Jaime == Cersei)\n",
        "\n",
        "#Adding Beth's friends\n",
        "model.Add(Beth == Tyrion)\n",
        "\n",
        "#Adding Jon's friends and enemies\n",
        "model.Add(Jon == Daenerys)\n",
        "model.Add(Jon != Jaime)\n",
        "model.Add(Jon != Tyrion)\n",
        "\n",
        "#Adding Daenerys friends and enemies\n",
        "model.Add(Daenerys == Jon)\n",
        "model.Add(Daenerys != Cersei)\n",
        "\n",
        "#Adding friends and enemies of Cersei\n",
        "model.Add(Cersei == Jaime)\n",
        "model.Add(Cersei != Daenerys)\n",
        "model.Add(Cersei != Sansa)\n",
        "\n",
        "#Adding Sansa's enemies\n",
        "model.Add(Sansa != Cersei)\n",
        "\n",
        "#Adding Tyrions friends and enemies\n",
        "model.Add(Tyrion == Beth)\n",
        "model.Add(Tyrion != Jon)"
      ],
      "execution_count": 6,
      "outputs": [
        {
          "output_type": "execute_result",
          "data": {
            "text/plain": [
              "<ortools.sat.python.cp_model.Constraint at 0x7fe86fc03630>"
            ]
          },
          "metadata": {
            "tags": []
          },
          "execution_count": 6
        }
      ]
    },
    {
      "cell_type": "code",
      "metadata": {
        "id": "Pz2znPn913v5",
        "colab_type": "code",
        "colab": {}
      },
      "source": [
        "#Minimizing the number of tables\n",
        "model.Minimize(sum(values))"
      ],
      "execution_count": 0,
      "outputs": []
    },
    {
      "cell_type": "code",
      "metadata": {
        "id": "DKJbzTlr2HRg",
        "colab_type": "code",
        "colab": {}
      },
      "source": [
        "solver=cp_model.CpSolver()\n",
        "status=solver.Solve(model)"
      ],
      "execution_count": 0,
      "outputs": []
    },
    {
      "cell_type": "code",
      "metadata": {
        "id": "JPtl1DP12sNJ",
        "colab_type": "code",
        "colab": {}
      },
      "source": [
        "#Saving the names for looping through\n",
        "names=['Jaime','Beth','Jon','Daenerys','Cersei','Sansa','Tyrion']"
      ],
      "execution_count": 0,
      "outputs": []
    },
    {
      "cell_type": "code",
      "metadata": {
        "id": "tz8wGeYu2RFz",
        "colab_type": "code",
        "colab": {
          "base_uri": "https://localhost:8080/",
          "height": 252
        },
        "outputId": "02d94ee1-2765-45d4-8f90-821758949529"
      },
      "source": [
        "#Shows table number assigned for every member in a minimized manner\n",
        "for i in range(0,len(names)):\n",
        "  print(names[i] + \" : Table Number --> \")\n",
        "  print(solver.Value(values[i]))"
      ],
      "execution_count": 10,
      "outputs": [
        {
          "output_type": "stream",
          "text": [
            "Jaime : Table Number --> \n",
            "0\n",
            "Beth : Table Number --> \n",
            "0\n",
            "Jon : Table Number --> \n",
            "1\n",
            "Daenerys : Table Number --> \n",
            "1\n",
            "Cersei : Table Number --> \n",
            "0\n",
            "Sansa : Table Number --> \n",
            "1\n",
            "Tyrion : Table Number --> \n",
            "0\n"
          ],
          "name": "stdout"
        }
      ]
    },
    {
      "cell_type": "code",
      "metadata": {
        "id": "CESLlRTv3Y6e",
        "colab_type": "code",
        "colab": {}
      },
      "source": [
        "result=[]\n",
        "for i in range(0,len(values)):\n",
        "  result.append(solver.Value(values[i]))"
      ],
      "execution_count": 0,
      "outputs": []
    },
    {
      "cell_type": "code",
      "metadata": {
        "id": "Wz3nKuTK3ji2",
        "colab_type": "code",
        "colab": {
          "base_uri": "https://localhost:8080/",
          "height": 34
        },
        "outputId": "5785f547-2ff2-4aae-8e29-468a5745359a"
      },
      "source": [
        "print(\"Number of Maximum tables required : \" + str(len(set(result))))"
      ],
      "execution_count": 14,
      "outputs": [
        {
          "output_type": "stream",
          "text": [
            "Number of Maximum tables required : 2\n"
          ],
          "name": "stdout"
        }
      ]
    }
  ]
}